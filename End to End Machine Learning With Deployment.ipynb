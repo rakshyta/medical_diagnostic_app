{
 "cells": [
  {
   "cell_type": "markdown",
   "id": "95f2b686",
   "metadata": {},
   "source": [
    "# End to End Machine Learning With Deployment"
   ]
  },
  {
   "cell_type": "markdown",
   "id": "333d6ed2",
   "metadata": {},
   "source": [
    "### Part 1- EDA of the Medical Dataset\n",
    "1. Import the libraries\n",
    "2. Load and View the data\n",
    "3. Clean the data\n",
    "4. Complete EDA of the data (deploy a EDA page in streamlit) \n",
    "\n",
    "### Part 2- Modelling of the data set\n",
    "5. Preprocessing for modelling\n",
    "6. Fit and Evaluate various models\n",
    "7. Optimize the chosen model\n",
    "8. Interpret the model\n",
    "9. Create a pipeline for the model\n",
    "10. Pickle the model \n",
    "11. Deploy the model in streamlit "
   ]
  },
  {
   "cell_type": "code",
   "execution_count": 3,
   "id": "a9596243",
   "metadata": {},
   "outputs": [
    {
     "name": "stdout",
     "output_type": "stream",
     "text": [
      "3.9.13\n"
     ]
    }
   ],
   "source": [
    "from platform import python_version\n",
    "\n",
    "print(python_version())"
   ]
  },
  {
   "cell_type": "markdown",
   "id": "2a1ee20b",
   "metadata": {},
   "source": [
    "!pip install imbalanced-learn"
   ]
  },
  {
   "cell_type": "markdown",
   "id": "0e64c0c5",
   "metadata": {},
   "source": [
    "!pip install xgboost"
   ]
  },
  {
   "cell_type": "markdown",
   "id": "97ae6923",
   "metadata": {},
   "source": [
    "!pip install streamlit"
   ]
  },
  {
   "cell_type": "markdown",
   "id": "386c5037",
   "metadata": {},
   "source": [
    "### Step 1: Import the libraries"
   ]
  },
  {
   "cell_type": "code",
   "execution_count": null,
   "id": "43bf97b5",
   "metadata": {},
   "outputs": [],
   "source": [
    "import pandas as pd\n",
    "import numpy as np\n",
    "import matplotlib.pyplot as plt\n",
    "import seaborn as sns\n",
    "import warnings\n",
    "warnings.filterwarnings('ignore')\n",
    "plt.style.use('fivethirtyeight')\n",
    "print(\"All needed libraries are imported\")\n",
    "\n",
    "# libraries for preprocessing\n",
    "from sklearn.preprocessing import StandardScaler\n",
    "from sklearn.model_selection import train_test_split, GridSearchCV\n",
    "from imblearn.over_sampling import SMOTE\n",
    "\n",
    "# libraries for modelling\n",
    "from sklearn.linear_model import LogisticRegression\n",
    "from sklearn.naive_bayes import GaussianNB\n",
    "from sklearn.neighbors import KNeighborsClassifier\n",
    "from sklearn.tree import DecisionTreeClassifier\n",
    "from sklearn.ensemble import RandomForestClassifier, AdaBoostClassifier, GradientBoostingClassifier\n",
    "from xgboost import XGBClassifier\n",
    "from sklearn.svm import SVC\n",
    "\n",
    "# libraries for model evaluation\n",
    "from sklearn.metrics import accuracy_score, precision_score, recall_score, f1_score, roc_auc_score\n",
    "from sklearn.metrics import plot_confusion_matrix, plot_precision_recall_curve, plot_roc_curve\n",
    "from sklearn.metrics import classification_report\n",
    "\n",
    "# libraries for deployment\n",
    "import streamlit as st"
   ]
  },
  {
   "cell_type": "markdown",
   "id": "8fc91fa2",
   "metadata": {},
   "source": [
    "### Step 2: Load and View the data"
   ]
  },
  {
   "cell_type": "code",
   "execution_count": null,
   "id": "d4461912",
   "metadata": {},
   "outputs": [],
   "source": [
    "data=pd.read_csv('data.csv')\n",
    "data.head(10)"
   ]
  },
  {
   "cell_type": "code",
   "execution_count": null,
   "id": "8283e7b8",
   "metadata": {},
   "outputs": [],
   "source": [
    "data.shape"
   ]
  },
  {
   "cell_type": "code",
   "execution_count": null,
   "id": "21af20dd",
   "metadata": {},
   "outputs": [],
   "source": [
    "data.dtypes"
   ]
  },
  {
   "cell_type": "code",
   "execution_count": null,
   "id": "082f5538",
   "metadata": {},
   "outputs": [],
   "source": [
    "data.isnull().sum()"
   ]
  },
  {
   "cell_type": "code",
   "execution_count": null,
   "id": "d0915741",
   "metadata": {},
   "outputs": [],
   "source": [
    "data.duplicated().sum()"
   ]
  },
  {
   "cell_type": "code",
   "execution_count": null,
   "id": "f76d2dcc",
   "metadata": {},
   "outputs": [],
   "source": [
    "data[~data.applymap(np.isreal).any(1)]"
   ]
  },
  {
   "cell_type": "code",
   "execution_count": null,
   "id": "c889053f",
   "metadata": {},
   "outputs": [],
   "source": [
    "data.describe().T"
   ]
  },
  {
   "cell_type": "code",
   "execution_count": null,
   "id": "da759d23",
   "metadata": {},
   "outputs": [],
   "source": [
    "data.columns"
   ]
  },
  {
   "cell_type": "markdown",
   "id": "f9c94ea6",
   "metadata": {},
   "source": [
    "**Observations**\n",
    "1. Data has 768 rows and 10 columns \n",
    "2. The first column is 'Unnamed: 0' which is redundant\n",
    "3. All columns are numerical except the Outcome \n",
    "4. There are no nulls in the data \n",
    "5. However there are nulls present as 0's\n",
    "6. There are no duplicates or corrupt characters\n"
   ]
  },
  {
   "cell_type": "markdown",
   "id": "66ef9dfd",
   "metadata": {},
   "source": [
    "### Step 3: Clean the data"
   ]
  },
  {
   "cell_type": "code",
   "execution_count": null,
   "id": "6f2c1e7e",
   "metadata": {},
   "outputs": [],
   "source": [
    "# remove the redundant columns\n",
    "data.drop('Unnamed: 0', axis=1, inplace=True)"
   ]
  },
  {
   "cell_type": "code",
   "execution_count": null,
   "id": "cdcb8215",
   "metadata": {},
   "outputs": [],
   "source": [
    "data.head(2)"
   ]
  },
  {
   "cell_type": "code",
   "execution_count": null,
   "id": "5b599d2e",
   "metadata": {},
   "outputs": [],
   "source": [
    "zerofill=lambda x:x.replace(0, x.median())\n",
    "cols=data.columns[1:6]\n",
    "data[cols]=data[cols].apply(zerofill, axis=0)"
   ]
  },
  {
   "cell_type": "code",
   "execution_count": null,
   "id": "fd23f3d8",
   "metadata": {},
   "outputs": [],
   "source": [
    "data.describe().T"
   ]
  },
  {
   "cell_type": "code",
   "execution_count": null,
   "id": "4a03bcb2",
   "metadata": {},
   "outputs": [],
   "source": [
    "d={'Yes':1, 'No':0}\n",
    "df=data.copy()\n",
    "df['Outcome']=df['Outcome'].map(d)"
   ]
  },
  {
   "cell_type": "code",
   "execution_count": null,
   "id": "2bb3b136",
   "metadata": {},
   "outputs": [],
   "source": [
    "df.head(2)"
   ]
  },
  {
   "cell_type": "markdown",
   "id": "77323ea5",
   "metadata": {},
   "source": [
    "### Step 4: Complete EDA of the data ( depoloy a EDA page in streamlit) "
   ]
  },
  {
   "cell_type": "markdown",
   "id": "473a16cd",
   "metadata": {},
   "source": [
    "**Univariate Analysis**\n",
    "1. Numericals -histograms and boxplots \n",
    "2. Categorical- barcharts \n",
    "\n",
    "**Bivariate Analysis**\n",
    "1. Categorical vs Numerical barchart\n",
    "2. Scatter plots and Line plots \n",
    "3. Pairplots \n",
    "\n",
    "**Corralations**\n",
    "1. Correlation Matrix\n",
    "2. Heatmap"
   ]
  },
  {
   "cell_type": "markdown",
   "id": "da64286c",
   "metadata": {},
   "source": [
    "**Univariate Analysis**"
   ]
  },
  {
   "cell_type": "code",
   "execution_count": null,
   "id": "d6c84910",
   "metadata": {},
   "outputs": [],
   "source": [
    "def histograms(data):\n",
    "    print('Histograms')\n",
    "    data.hist()\n",
    "    plt.tight_layout()\n",
    "    plt.show()"
   ]
  },
  {
   "cell_type": "code",
   "execution_count": null,
   "id": "d835918a",
   "metadata": {},
   "outputs": [],
   "source": [
    "histograms(df)"
   ]
  },
  {
   "cell_type": "code",
   "execution_count": null,
   "id": "696e2b5d",
   "metadata": {},
   "outputs": [],
   "source": [
    "def boxplot_histplot(data, feature, bins=None, figsize=(12,7)):\n",
    "    print(\"Boxplot and Histplot for \", feature)\n",
    "    fig, (ax_box, ax_hist)=plt.subplots(\n",
    "    nrows=2,\n",
    "    sharex=True,\n",
    "    gridspec_kw={'height_ratios':(0.25, 0.75)},\n",
    "    figsize=figsize)\n",
    "    \n",
    "    sns.boxplot(data=data, x=feature, showmeans=True, color='orange', ax=ax_box)\n",
    "    sns.histplot(data=data, x=feature, bins=bins, ax=ax_hist, pallete='green') if bins else sns.\\\n",
    "                         histplot(data=data, x=feature, ax=ax_hist)\n",
    "    ax_hist.axvline(data[feature].mean(), color='green', linestyle='--')\n",
    "    ax_hist.axvline(data[feature].median(), color='black', linestyle='-')\n",
    "    plt.show()"
   ]
  },
  {
   "cell_type": "code",
   "execution_count": null,
   "id": "ef9a3d44",
   "metadata": {},
   "outputs": [],
   "source": [
    "for col in data.select_dtypes(exclude='O').columns:\n",
    "    boxplot_histplot(data=data, feature=col, bins=None, figsize=(12,7))"
   ]
  },
  {
   "cell_type": "code",
   "execution_count": null,
   "id": "ef553ce3",
   "metadata": {},
   "outputs": [],
   "source": [
    "def barchart(data, feature):\n",
    "    print(\"Univariate Countplot of \", feature)\n",
    "    plt.figure(figsize=(12,7))\n",
    "    ax=sns.countplot(data=data, x=feature, color='green')\n",
    "    for p in ax.patches:\n",
    "        x=p.get_bbox().get_points()[:,0]\n",
    "        y=p.get_bbox().get_points()[1,1]\n",
    "        ax.annotate(\"{:.3g}%\".format(100.*y/len(df)), (x.mean(), y), ha='center', va='bottom')\n",
    "    plt.show()"
   ]
  },
  {
   "cell_type": "code",
   "execution_count": null,
   "id": "ff6f7d86",
   "metadata": {},
   "outputs": [],
   "source": [
    "barchart(data=data, feature='Outcome')"
   ]
  },
  {
   "cell_type": "markdown",
   "id": "9262f235",
   "metadata": {},
   "source": [
    "**Observations**\n",
    "1. Insulin . DPF and Age are highly right skewed and having heavy amoiunt of outliers ( we may need to do data transformation like log) \n",
    "2. Age and Pregnancies are also right skewed with some extreme values which may be legit ( need to consukt with domain experts)\n",
    "3. Outcome variable is highly imbalanced(Yes:No = 1:2) , we need to solve for data imbalance before modelling\n",
    "4. Missing values have been taken care of\n",
    "5. Label Encoding is done "
   ]
  },
  {
   "cell_type": "markdown",
   "id": "f4484203",
   "metadata": {},
   "source": [
    "**Bivariate Analysis**\n",
    "1. Categorical vs Numerical barchart\n",
    "2. Scatter plots and Line plots \n",
    "3. Pairplots "
   ]
  },
  {
   "cell_type": "code",
   "execution_count": null,
   "id": "a7ac7204",
   "metadata": {},
   "outputs": [],
   "source": [
    "def catnum(data, feature1, feature2):\n",
    "    print(\"Bivariate Barchart between {0} and {1}\".format(feature1, feature2))\n",
    "    data.groupby(feature1)[feature2].mean().plot(kind='bar', color='orange')\n",
    "    plt.ylabel(col)\n",
    "    plt.show()"
   ]
  },
  {
   "cell_type": "code",
   "execution_count": null,
   "id": "d6cb958d",
   "metadata": {},
   "outputs": [],
   "source": [
    "for col in data.select_dtypes(exclude='O').columns:\n",
    "    catnum(data=data, feature1='Outcome', feature2=col)"
   ]
  },
  {
   "cell_type": "code",
   "execution_count": null,
   "id": "c5ae0da2",
   "metadata": {},
   "outputs": [],
   "source": [
    "def lineplot_scatterplot(data, feature1, feature2):\n",
    "    plt.figure(figsize=(16,7))\n",
    "    print(\"Bivariate Charts for {0} and {1}\".format(feature1, feature2))\n",
    "    plt.subplot(1,2,1)\n",
    "    sns.lineplot(data=data, x=feature1, y=feature2, color='green')\n",
    "    plt.title('Lineplot between features')\n",
    "    \n",
    "    plt.subplot(1,2,2)\n",
    "    sns.scatterplot(data=data, x=feature1, y=feature2, color='orange')\n",
    "    plt.title('Scatterplot between features')\n",
    "    plt.show() "
   ]
  },
  {
   "cell_type": "code",
   "execution_count": null,
   "id": "3b8361c4",
   "metadata": {},
   "outputs": [],
   "source": [
    "for col in df.select_dtypes(exclude='O').columns:\n",
    "    lineplot_scatterplot(data=df, feature1='Glucose', feature2=col)"
   ]
  },
  {
   "cell_type": "code",
   "execution_count": null,
   "id": "1b685722",
   "metadata": {
    "scrolled": true
   },
   "outputs": [],
   "source": [
    "sns.pairplot(df, kind='reg')"
   ]
  },
  {
   "cell_type": "markdown",
   "id": "8e64b8d9",
   "metadata": {},
   "source": [
    "**Corralations**\n",
    "1. Correlation Matrix\n",
    "2. Heatmap"
   ]
  },
  {
   "cell_type": "code",
   "execution_count": null,
   "id": "16c87f09",
   "metadata": {},
   "outputs": [],
   "source": [
    "df.corr()"
   ]
  },
  {
   "cell_type": "code",
   "execution_count": null,
   "id": "6a72752e",
   "metadata": {},
   "outputs": [],
   "source": [
    "df[df.columns[:]].corr()['Outcome']"
   ]
  },
  {
   "cell_type": "code",
   "execution_count": null,
   "id": "4981b4b2",
   "metadata": {},
   "outputs": [],
   "source": [
    "plt.figure(figsize=(12,7))\n",
    "sns.heatmap(df.corr(), annot=True, cmap='Spectral', vmin=-1, vmax=+1)"
   ]
  },
  {
   "cell_type": "markdown",
   "id": "a72a9c15",
   "metadata": {},
   "source": [
    "**Observations of Bivariate Analysis**\n",
    "1. Women with higher Pregnancies, Glucose, DPF, Insulin are more likely to be diabetic\n",
    "2. Glucose and Insulin, BMI and SkinThickness appear to have hiugh multicollinearity\n",
    "3. Glucose, BMI appear to be strongest predictors of Diabetes"
   ]
  },
  {
   "cell_type": "markdown",
   "id": "70d7c38f",
   "metadata": {},
   "source": [
    "### App for EDA "
   ]
  },
  {
   "cell_type": "code",
   "execution_count": null,
   "id": "db53060e",
   "metadata": {},
   "outputs": [],
   "source": [
    "%%writefile eda.py\n",
    "import streamlit as st\n",
    "st.title(\"The EDA Page\")\n",
    "\n",
    "import pandas as pd\n",
    "import numpy as np\n",
    "import matplotlib.pyplot as plt\n",
    "import seaborn as sns\n",
    "import warnings\n",
    "warnings.filterwarnings('ignore')\n",
    "st.set_option('deprecation.showPyplotGlobalUse', False)\n",
    "plt.style.use('fivethirtyeight')\n",
    "\n",
    "### Step2. Load and View the data\n",
    "\n",
    "data=pd.read_csv('data.csv')\n",
    "st.subheader('Data View')\n",
    "st.write(data.head())\n",
    "\n",
    "st.subheader('Descriptives')\n",
    "st.write(data.describe().T)\n",
    "\n",
    "data.hist()\n",
    "st.subheader('Histograms')\n",
    "plt.tight_layout()\n",
    "st.pyplot()"
   ]
  },
  {
   "cell_type": "markdown",
   "id": "1267809b",
   "metadata": {},
   "source": [
    "# End of Part 1"
   ]
  },
  {
   "cell_type": "markdown",
   "id": "c0b810ae",
   "metadata": {},
   "source": [
    "### Step 5: Data Preprocessing\n",
    "1. Separate the features and label\n",
    "2. Null value imputation\n",
    "3. Label Encoding\n",
    "4. Data imbalance solving\n",
    "5. Train test split\n",
    "6. Feature scaling"
   ]
  },
  {
   "cell_type": "code",
   "execution_count": 35,
   "id": "3f44ef9f",
   "metadata": {},
   "outputs": [],
   "source": [
    "def preprocess(data, label):\n",
    "    X = data.drop(label, axis=1)\n",
    "    y = data[label]\n",
    "    sm = SMOTE()\n",
    "    X,y = sm.fit_resample(X,y)\n",
    "    x_train, x_test, y_train, y_test = train_test_split(X, y, test_size=0.2, random_state=42)\n",
    "    return x_train, x_test, y_train, y_test"
   ]
  },
  {
   "cell_type": "code",
   "execution_count": 36,
   "id": "bb9daee6",
   "metadata": {},
   "outputs": [],
   "source": [
    "x_train, x_test, y_train, y_test = preprocess(df, 'Outcome')"
   ]
  },
  {
   "cell_type": "code",
   "execution_count": 37,
   "id": "b77c1360",
   "metadata": {},
   "outputs": [],
   "source": [
    "sc = StandardScaler()\n",
    "x_train = sc.fit_transform(x_train)\n",
    "x_test = sc.transform(x_test)"
   ]
  },
  {
   "cell_type": "markdown",
   "id": "34600503",
   "metadata": {},
   "source": [
    "### Step 6: Fit and Evaluate Models"
   ]
  },
  {
   "cell_type": "code",
   "execution_count": 47,
   "id": "064ec4f0",
   "metadata": {},
   "outputs": [],
   "source": [
    "def print_metrics(y_test, y_pred, model_name):\n",
    "    print('The results of model:', model_name, end='\\n')\n",
    "    print('Accuracy score = ', accuracy_score(y_test, y_pred), end='\\n')\n",
    "    print('Recall score = ', recall_score(y_test, y_pred), end='\\n')\n",
    "    print('Precision score = ', precision_score(y_test, y_pred), end='\\n')\n",
    "    print('F1 score = ', f1_score(y_test, y_pred))"
   ]
  },
  {
   "cell_type": "code",
   "execution_count": 41,
   "id": "27657884",
   "metadata": {},
   "outputs": [],
   "source": [
    "def plot_metrics(clf, x_test, y_test, model_name):\n",
    "    plot_confusion_matrix(clf, x_test, y_test, display_labels=[0,1])\n",
    "    print('')\n",
    "    plot_roc_curve(clf, x_test, y_test)\n",
    "    print('')\n",
    "    plot_precision_recall_curve(clf, x_test, y_test)"
   ]
  },
  {
   "cell_type": "code",
   "execution_count": 42,
   "id": "e51390dc",
   "metadata": {},
   "outputs": [
    {
     "data": {
      "text/plain": [
       "0    500\n",
       "1    268\n",
       "Name: Outcome, dtype: int64"
      ]
     },
     "execution_count": 42,
     "metadata": {},
     "output_type": "execute_result"
    }
   ],
   "source": [
    "y = df['Outcome']\n",
    "y.value_counts()"
   ]
  },
  {
   "cell_type": "code",
   "execution_count": 43,
   "id": "ae6600a3",
   "metadata": {},
   "outputs": [],
   "source": [
    "X = df.drop('Outcome', axis=1)"
   ]
  },
  {
   "cell_type": "code",
   "execution_count": 44,
   "id": "293fd76d",
   "metadata": {},
   "outputs": [],
   "source": [
    "sm = SMOTE()\n",
    "X,y = sm.fit_resample(X,y)"
   ]
  },
  {
   "cell_type": "code",
   "execution_count": 45,
   "id": "a13da17b",
   "metadata": {},
   "outputs": [
    {
     "data": {
      "text/plain": [
       "1    500\n",
       "0    500\n",
       "Name: Outcome, dtype: int64"
      ]
     },
     "execution_count": 45,
     "metadata": {},
     "output_type": "execute_result"
    }
   ],
   "source": [
    "y.value_counts()"
   ]
  },
  {
   "cell_type": "code",
   "execution_count": 48,
   "id": "b2d26851",
   "metadata": {},
   "outputs": [
    {
     "name": "stdout",
     "output_type": "stream",
     "text": [
      "The results of model KNN\n",
      "Accuracy score =  0.78\n",
      "Recall score =  0.7244094488188977\n",
      "Precision score =  0.9108910891089109\n",
      "F1 score =  0.8070175438596492\n"
     ]
    }
   ],
   "source": [
    "# fit the KNN method\n",
    "\n",
    "knn = KNeighborsClassifier()\n",
    "knn.fit(x_train, y_train)\n",
    "y_pred = knn.predict(x_test)\n",
    "print_metrics(y_pred, y_test, 'KNN')"
   ]
  },
  {
   "cell_type": "code",
   "execution_count": 51,
   "id": "8ab9a045",
   "metadata": {
    "collapsed": true
   },
   "outputs": [
    {
     "name": "stdout",
     "output_type": "stream",
     "text": [
      "\n",
      "\n"
     ]
    },
    {
     "data": {
      "image/png": "[encoded data removed]",
      "text/plain": [
       "<Figure size 640x480 with 2 Axes>"
      ]
     },
     "metadata": {},
     "output_type": "display_data"
    },
    {
     "data": {
      "image/png": "[encoded data removed]",
      "text/plain": [
       "<Figure size 640x480 with 1 Axes>"
      ]
     },
     "metadata": {},
     "output_type": "display_data"
    },
    {
     "data": {
      "image/png": "[encoded data removed]",
      "text/plain": [
       "<Figure size 640x480 with 1 Axes>"
      ]
     },
     "metadata": {},
     "output_type": "display_data"
    }
   ],
   "source": [
    "plot_metrics(knn, x_test, y_test, 'KNN')"
   ]
  },
  {
   "cell_type": "code",
   "execution_count": 52,
   "id": "799f459b",
   "metadata": {},
   "outputs": [
    {
     "data": {
      "image/png": "[encoded data removed]",
      "text/plain": [
       "<Figure size 640x480 with 1 Axes>"
      ]
     },
     "metadata": {},
     "output_type": "display_data"
    }
   ],
   "source": [
    "# optimize k\n",
    "\n",
    "neighbors = np.arange(1,20)\n",
    "train_accuracies = np.empty(len(neighbors))\n",
    "test_accuracies = np.empty(len(neighbors))\n",
    "\n",
    "for i,k in enumerate(neighbors):\n",
    "    knn = KNeighborsClassifier(n_neighbors=k)\n",
    "    knn.fit(x_train, y_train)\n",
    "    train_accuracies[i] = knn.score(x_train, y_train)\n",
    "    test_accuracies[i] = knn.score(x_test, y_test)\n",
    "    \n",
    "plt.plot(neighbors, train_accuracies, label='Train Accuracies')\n",
    "plt.plot(neighbors, test_accuracies, label='Test Accuracies')\n",
    "plt.legend()\n",
    "plt.title('Model Complexity Curves')\n",
    "plt.xlabel('No. of Neighbors')\n",
    "plt.ylabel('Accuracies')\n",
    "plt.show()"
   ]
  },
  {
   "cell_type": "code",
   "execution_count": 53,
   "id": "048b397c",
   "metadata": {},
   "outputs": [
    {
     "name": "stdout",
     "output_type": "stream",
     "text": [
      "The results of model KNN\n",
      "Accuracy score =  0.765\n",
      "Recall score =  0.7213114754098361\n",
      "Precision score =  0.8712871287128713\n",
      "F1 score =  0.789237668161435\n"
     ]
    }
   ],
   "source": [
    "#  refit knn for k=16\n",
    "\n",
    "knn = KNeighborsClassifier(n_neighbors=16)\n",
    "knn.fit(x_train, y_train)\n",
    "y_pred = knn.predict(x_test)\n",
    "print_metrics(y_pred, y_test, 'KNN')"
   ]
  },
  {
   "cell_type": "code",
   "execution_count": 59,
   "id": "79563341",
   "metadata": {},
   "outputs": [
    {
     "name": "stdout",
     "output_type": "stream",
     "text": [
      "Fitting Classifier ... LogisticRegression\n",
      "Fitting Classifier ... Naive Bayes\n",
      "Fitting Classifier ... KNN\n",
      "Fitting Classifier ... DecisionTree\n",
      "Fitting Classifier ... RandomForest\n",
      "Fitting Classifier ... AdaBoost\n",
      "Fitting Classifier ... GradientBoosting\n",
      "Fitting Classifier ... XGBoost\n",
      "Fitting Classifier ... SVM\n"
     ]
    },
    {
     "data": {
      "text/html": [
       "<div>\n",
       "<style scoped>\n",
       "    .dataframe tbody tr th:only-of-type {\n",
       "        vertical-align: middle;\n",
       "    }\n",
       "\n",
       "    .dataframe tbody tr th {\n",
       "        vertical-align: top;\n",
       "    }\n",
       "\n",
       "    .dataframe thead th {\n",
       "        text-align: right;\n",
       "    }\n",
       "</style>\n",
       "<table border=\"1\" class=\"dataframe\">\n",
       "  <thead>\n",
       "    <tr style=\"text-align: right;\">\n",
       "      <th></th>\n",
       "      <th>model name</th>\n",
       "      <th>accuracy</th>\n",
       "      <th>recall</th>\n",
       "      <th>precision</th>\n",
       "      <th>f1-score</th>\n",
       "    </tr>\n",
       "  </thead>\n",
       "  <tbody>\n",
       "    <tr>\n",
       "      <th>7</th>\n",
       "      <td>XGBoost</td>\n",
       "      <td>0.795</td>\n",
       "      <td>0.851485</td>\n",
       "      <td>0.767857</td>\n",
       "      <td>0.807512</td>\n",
       "    </tr>\n",
       "    <tr>\n",
       "      <th>2</th>\n",
       "      <td>KNN</td>\n",
       "      <td>0.780</td>\n",
       "      <td>0.910891</td>\n",
       "      <td>0.724409</td>\n",
       "      <td>0.807018</td>\n",
       "    </tr>\n",
       "    <tr>\n",
       "      <th>4</th>\n",
       "      <td>RandomForest</td>\n",
       "      <td>0.785</td>\n",
       "      <td>0.841584</td>\n",
       "      <td>0.758929</td>\n",
       "      <td>0.798122</td>\n",
       "    </tr>\n",
       "    <tr>\n",
       "      <th>6</th>\n",
       "      <td>GradientBoosting</td>\n",
       "      <td>0.780</td>\n",
       "      <td>0.821782</td>\n",
       "      <td>0.761468</td>\n",
       "      <td>0.790476</td>\n",
       "    </tr>\n",
       "    <tr>\n",
       "      <th>8</th>\n",
       "      <td>SVM</td>\n",
       "      <td>0.765</td>\n",
       "      <td>0.831683</td>\n",
       "      <td>0.736842</td>\n",
       "      <td>0.781395</td>\n",
       "    </tr>\n",
       "    <tr>\n",
       "      <th>5</th>\n",
       "      <td>AdaBoost</td>\n",
       "      <td>0.735</td>\n",
       "      <td>0.772277</td>\n",
       "      <td>0.722222</td>\n",
       "      <td>0.746411</td>\n",
       "    </tr>\n",
       "    <tr>\n",
       "      <th>0</th>\n",
       "      <td>LogisticRegression</td>\n",
       "      <td>0.740</td>\n",
       "      <td>0.752475</td>\n",
       "      <td>0.737864</td>\n",
       "      <td>0.745098</td>\n",
       "    </tr>\n",
       "    <tr>\n",
       "      <th>1</th>\n",
       "      <td>Naive Bayes</td>\n",
       "      <td>0.745</td>\n",
       "      <td>0.693069</td>\n",
       "      <td>0.777778</td>\n",
       "      <td>0.732984</td>\n",
       "    </tr>\n",
       "    <tr>\n",
       "      <th>3</th>\n",
       "      <td>DecisionTree</td>\n",
       "      <td>0.700</td>\n",
       "      <td>0.683168</td>\n",
       "      <td>0.711340</td>\n",
       "      <td>0.696970</td>\n",
       "    </tr>\n",
       "  </tbody>\n",
       "</table>\n",
       "</div>"
      ],
      "text/plain": [
       "           model name  accuracy    recall  precision  f1-score\n",
       "7             XGBoost     0.795  0.851485   0.767857  0.807512\n",
       "2                 KNN     0.780  0.910891   0.724409  0.807018\n",
       "4        RandomForest     0.785  0.841584   0.758929  0.798122\n",
       "6    GradientBoosting     0.780  0.821782   0.761468  0.790476\n",
       "8                 SVM     0.765  0.831683   0.736842  0.781395\n",
       "5            AdaBoost     0.735  0.772277   0.722222  0.746411\n",
       "0  LogisticRegression     0.740  0.752475   0.737864  0.745098\n",
       "1         Naive Bayes     0.745  0.693069   0.777778  0.732984\n",
       "3        DecisionTree     0.700  0.683168   0.711340  0.696970"
      ]
     },
     "execution_count": 59,
     "metadata": {},
     "output_type": "execute_result"
    }
   ],
   "source": [
    "# fit and evaluate all the models and choose the best to deploy\n",
    "\n",
    "clfs = {\n",
    "    'LogisticRegression':LogisticRegression(),\n",
    "    'Naive Bayes':GaussianNB(),\n",
    "    'KNN':KNeighborsClassifier(),\n",
    "    'DecisionTree':DecisionTreeClassifier(),\n",
    "    'RandomForest':RandomForestClassifier(),\n",
    "    'AdaBoost':AdaBoostClassifier(),\n",
    "    'GradientBoosting':GradientBoostingClassifier(),\n",
    "    'XGBoost':XGBClassifier(),\n",
    "    'SVM':SVC()\n",
    "}\n",
    "\n",
    "\n",
    "# creating an empty dataframe of metrics\n",
    "\n",
    "model_report = pd.DataFrame(columns=['model name', 'accuracy', 'recall', 'precision', 'f1-score'])\n",
    "\n",
    "\n",
    "# fit and evaluate each model\n",
    "\n",
    "for clf, clf_name in list(zip(clfs.values(), clfs.keys())):\n",
    "    clf.fit(x_train, y_train)\n",
    "    print('Fitting Classifier ...', clf_name)\n",
    "    y_pred = clf.predict(x_test)\n",
    "    t = pd.Series({'model name':clf_name, \n",
    "                   'accuracy':accuracy_score(y_test, y_pred), \n",
    "                   'recall':recall_score(y_test, y_pred), \n",
    "                   'precision':precision_score(y_test, y_pred), \n",
    "                   'f1-score':f1_score(y_test, y_pred) })\n",
    "    model_report = model_report.append(t, ignore_index=True)\n",
    "    \n",
    "model_report = model_report.sort_values(by='f1-score', ascending=False)\n",
    "model_report"
   ]
  },
  {
   "cell_type": "code",
   "execution_count": 60,
   "id": "597b5aa5",
   "metadata": {},
   "outputs": [
    {
     "name": "stdout",
     "output_type": "stream",
     "text": [
      "The results of model RFC\n",
      "Accuracy score =  0.815\n",
      "Recall score =  0.8811881188118812\n",
      "Precision score =  0.7807017543859649\n",
      "F1 score =  0.8279069767441861\n"
     ]
    }
   ],
   "source": [
    "rfc = RandomForestClassifier()\n",
    "rfc.fit(x_train, y_train)\n",
    "y_pred = rfc.predict(x_test)\n",
    "print_metrics(y_test, y_pred, 'RFC')"
   ]
  },
  {
   "cell_type": "markdown",
   "id": "4c427a8a",
   "metadata": {},
   "source": [
    "### Step 7: Optimize the chosen model"
   ]
  },
  {
   "cell_type": "code",
   "execution_count": 63,
   "id": "238f8040",
   "metadata": {},
   "outputs": [
    {
     "name": "stdout",
     "output_type": "stream",
     "text": [
      "Fitting 3 folds for each of 800 candidates, totalling 2400 fits\n"
     ]
    },
    {
     "data": {
      "text/plain": [
       "0.8137431593966188"
      ]
     },
     "execution_count": 63,
     "metadata": {},
     "output_type": "execute_result"
    }
   ],
   "source": [
    "#  optimize the model using GridSearchCV\n",
    "\n",
    "param_grid = {\n",
    "    'n_estimators':[100, 150, 200, 250, 300],\n",
    "    'min_samples_leaf':range(1, 5, 1),\n",
    "    'min_samples_split':range(2, 10, 2),\n",
    "    'max_depth':[1,2,3,4,5],\n",
    "    'criterion':['entropy','gini']\n",
    "}\n",
    "\n",
    "n_folds = 3\n",
    "cv = GridSearchCV(estimator=rfc, param_grid=param_grid, cv=n_folds, n_jobs=-1, verbose=5, return_train_score=False)\n",
    "cv.fit(x_train, y_train)\n",
    "cv.best_score_"
   ]
  },
  {
   "cell_type": "markdown",
   "id": "981b557e",
   "metadata": {},
   "source": [
    "### Step 8: Interpret the model"
   ]
  },
  {
   "cell_type": "code",
   "execution_count": 64,
   "id": "bb394c93",
   "metadata": {},
   "outputs": [
    {
     "data": {
      "text/plain": [
       "RandomForestClassifier(max_depth=3, min_samples_leaf=4)"
      ]
     },
     "execution_count": 64,
     "metadata": {},
     "output_type": "execute_result"
    }
   ],
   "source": [
    "# lets interpret the model\n",
    "\n",
    "rfc_tuned = cv.best_estimator_\n",
    "rfc_tuned"
   ]
  },
  {
   "cell_type": "code",
   "execution_count": 65,
   "id": "60e86a13",
   "metadata": {
    "collapsed": true
   },
   "outputs": [
    {
     "name": "stdout",
     "output_type": "stream",
     "text": [
      "Collecting shap\n",
      "  Downloading shap-0.41.0-cp39-cp39-win_amd64.whl (435 kB)\n",
      "     -------------------------------------- 435.6/435.6 kB 3.9 MB/s eta 0:00:00\n",
      "Requirement already satisfied: packaging>20.9 in c:\\users\\rakshita\\anaconda3\\lib\\site-packages (from shap) (21.3)\n",
      "Requirement already satisfied: numba in c:\\users\\rakshita\\anaconda3\\lib\\site-packages (from shap) (0.55.1)\n",
      "Requirement already satisfied: scikit-learn in c:\\users\\rakshita\\anaconda3\\lib\\site-packages (from shap) (1.0.2)\n",
      "Collecting slicer==0.0.7\n",
      "  Downloading slicer-0.0.7-py3-none-any.whl (14 kB)\n",
      "Requirement already satisfied: numpy in c:\\users\\rakshita\\anaconda3\\lib\\site-packages (from shap) (1.21.5)\n",
      "Requirement already satisfied: tqdm>4.25.0 in c:\\users\\rakshita\\anaconda3\\lib\\site-packages (from shap) (4.64.1)\n",
      "Requirement already satisfied: pandas in c:\\users\\rakshita\\anaconda3\\lib\\site-packages (from shap) (1.4.4)\n",
      "Requirement already satisfied: scipy in c:\\users\\rakshita\\anaconda3\\lib\\site-packages (from shap) (1.9.1)\n",
      "Requirement already satisfied: cloudpickle in c:\\users\\rakshita\\anaconda3\\lib\\site-packages (from shap) (2.0.0)\n",
      "Requirement already satisfied: pyparsing!=3.0.5,>=2.0.2 in c:\\users\\rakshita\\anaconda3\\lib\\site-packages (from packaging>20.9->shap) (3.0.9)\n",
      "Requirement already satisfied: colorama in c:\\users\\rakshita\\anaconda3\\lib\\site-packages (from tqdm>4.25.0->shap) (0.4.5)\n",
      "Requirement already satisfied: llvmlite<0.39,>=0.38.0rc1 in c:\\users\\rakshita\\anaconda3\\lib\\site-packages (from numba->shap) (0.38.0)\n",
      "Requirement already satisfied: setuptools in c:\\users\\rakshita\\anaconda3\\lib\\site-packages (from numba->shap) (63.4.1)\n",
      "Requirement already satisfied: pytz>=2020.1 in c:\\users\\rakshita\\anaconda3\\lib\\site-packages (from pandas->shap) (2022.1)\n",
      "Requirement already satisfied: python-dateutil>=2.8.1 in c:\\users\\rakshita\\anaconda3\\lib\\site-packages (from pandas->shap) (2.8.2)\n",
      "Requirement already satisfied: threadpoolctl>=2.0.0 in c:\\users\\rakshita\\anaconda3\\lib\\site-packages (from scikit-learn->shap) (2.2.0)\n",
      "Requirement already satisfied: joblib>=0.11 in c:\\users\\rakshita\\anaconda3\\lib\\site-packages (from scikit-learn->shap) (1.2.0)\n",
      "Requirement already satisfied: six>=1.5 in c:\\users\\rakshita\\anaconda3\\lib\\site-packages (from python-dateutil>=2.8.1->pandas->shap) (1.16.0)\n",
      "Installing collected packages: slicer, shap\n",
      "Successfully installed shap-0.41.0 slicer-0.0.7\n"
     ]
    }
   ],
   "source": [
    "!pip install shap"
   ]
  },
  {
   "cell_type": "code",
   "execution_count": 67,
   "id": "4ea551be",
   "metadata": {},
   "outputs": [
    {
     "data": {
      "image/png": "[encoded data removed]",
      "text/plain": [
       "<Figure size 800x470 with 1 Axes>"
      ]
     },
     "metadata": {},
     "output_type": "display_data"
    }
   ],
   "source": [
    "# Feature Importance / Model Interpretation\n",
    "\n",
    "import shap\n",
    "\n",
    "value = shap.TreeExplainer(rfc).shap_values(x_test)\n",
    "shap.summary_plot(value, x_train, plot_type='bar', feature_names=X.columns)"
   ]
  },
  {
   "cell_type": "markdown",
   "id": "b964d04e",
   "metadata": {},
   "source": [
    "### Step 9: Create a pipeline for the model"
   ]
  },
  {
   "cell_type": "code",
   "execution_count": 68,
   "id": "f3aec98f",
   "metadata": {},
   "outputs": [],
   "source": [
    "# create the deployment model pipeline\n",
    "\n",
    "from sklearn.pipeline import Pipeline"
   ]
  },
  {
   "cell_type": "code",
   "execution_count": 72,
   "id": "23e83e97",
   "metadata": {},
   "outputs": [
    {
     "name": "stdout",
     "output_type": "stream",
     "text": [
      "The results of model Pipeline RFC\n",
      "Accuracy score =  0.715\n",
      "Recall score =  0.7722772277227723\n",
      "Precision score =  0.6964285714285714\n",
      "F1 score =  0.7323943661971831\n"
     ]
    }
   ],
   "source": [
    "sc = StandardScaler()\n",
    "rfc = rfc_tuned\n",
    "steps = [('SC', sc), ('RFC_Tuned', rfc_tuned)]\n",
    "pipeline = Pipeline(steps)\n",
    "x_train, x_test, y_train, y_test = preprocess(df, label='Outcome')\n",
    "pipeline.fit(x_train, y_train)\n",
    "y_pred = pipeline.predict(x_test)\n",
    "print_metrics(y_test, y_pred, 'Pipeline RFC')"
   ]
  },
  {
   "cell_type": "markdown",
   "id": "6484d7e2",
   "metadata": {},
   "source": [
    "### Step 10: Pickle the model"
   ]
  },
  {
   "cell_type": "code",
   "execution_count": 73,
   "id": "b76326d7",
   "metadata": {},
   "outputs": [],
   "source": [
    "# lets freeze the model by pickling it\n",
    "\n",
    "import pickle\n",
    "\n",
    "model = open('rfc.pickle', 'wb')\n",
    "pickle.dump(pipeline, model)\n",
    "model.close()"
   ]
  },
  {
   "cell_type": "markdown",
   "id": "7b8828ca",
   "metadata": {},
   "source": [
    "### Step 11: Deploy the pickled model"
   ]
  },
  {
   "cell_type": "code",
   "execution_count": 74,
   "id": "9352d3ad",
   "metadata": {},
   "outputs": [
    {
     "data": {
      "text/plain": [
       "Index(['Pregnancies', 'Glucose', 'BloodPressure', 'SkinThickness', 'Insulin',\n",
       "       'BMI', 'DiabetesPedigreeFunction', 'Age', 'Outcome'],\n",
       "      dtype='object')"
      ]
     },
     "execution_count": 74,
     "metadata": {},
     "output_type": "execute_result"
    }
   ],
   "source": [
    "df.columns"
   ]
  },
  {
   "cell_type": "code",
   "execution_count": 1,
   "id": "73593466",
   "metadata": {},
   "outputs": [
    {
     "name": "stdout",
     "output_type": "stream",
     "text": [
      "Overwriting app.py\n"
     ]
    }
   ],
   "source": [
    "%%writefile app.py\n",
    "import streamlit as st\n",
    "import pickle\n",
    "import pandas as pd\n",
    "import numpy as np\n",
    "from sklearn.preprocessing import StandardScaler\n",
    "\n",
    "st.title('⚕️Medical Diagnostic Prediction App')\n",
    "st.markdown('Does the person has Diabetes ?')\n",
    "\n",
    "# step 1: load the trained model\n",
    "\n",
    "model = open('rfc.pickle', 'rb')\n",
    "clf = pickle.load(model)\n",
    "model.close()\n",
    "\n",
    "\n",
    "# step 2: get the user input from front end - create widgets\n",
    "\n",
    "pregs = st.number_input('Pregnancies', 0, 20, 1)\n",
    "glucose = st.slider('Glucose', 40, 200, 40)\n",
    "bp = st.slider('BloodPressure', 20, 140, 20)\n",
    "skin = st.slider('SkinThickness', 7, 99, 7)\n",
    "insulin = st.slider('Insulin', 14, 850, 14)\n",
    "bmi = st.slider('BMI', 18, 70, 18)\n",
    "dpf = st.slider('DiabetesPedigreeFunction', 0.05, 2.5, 0.05)\n",
    "age = st.slider('Age', 21, 90, 21)\n",
    "\n",
    "    \n",
    "# step 3: convert user input to model input\n",
    "\n",
    "data = {'Pregnancies':pregs,\n",
    "        'Glucose':glucose,\n",
    "        'BloodPressure':bp,\n",
    "        'SkinThickness':skin,\n",
    "        'Insulin':insulin,\n",
    "        'BMI':bmi,\n",
    "        'DiabetesPedigreeFunction':dpf,\n",
    "        'Age':age}\n",
    "\n",
    "input_data = pd.DataFrame([data])\n",
    "\n",
    "\n",
    "# step 4: get the predictions and print the results\n",
    "\n",
    "predictions = clf.predict(input_data)[0]\n",
    "if st.button('Predict'):\n",
    "    if predictions == 0:\n",
    "        st.write('The person is Healthy')\n",
    "    if predictions == 1:\n",
    "        st.write('The person has Diabetes')"
   ]
  },
  {
   "cell_type": "code",
   "execution_count": null,
   "id": "9d900bfc",
   "metadata": {},
   "outputs": [],
   "source": []
  }
 ],
 "metadata": {
  "kernelspec": {
   "display_name": "Python 3 (ipykernel)",
   "language": "python",
   "name": "python3"
  },
  "language_info": {
   "codemirror_mode": {
    "name": "ipython",
    "version": 3
   },
   "file_extension": ".py",
   "mimetype": "text/x-python",
   "name": "python",
   "nbconvert_exporter": "python",
   "pygments_lexer": "ipython3",
   "version": "3.9.13"
  }
 },
 "nbformat": 4,
 "nbformat_minor": 5
}
